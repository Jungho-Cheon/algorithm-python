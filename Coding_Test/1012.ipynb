{
 "cells": [
  {
   "cell_type": "code",
   "execution_count": 3,
   "metadata": {},
   "outputs": [
    {
     "name": "stdout",
     "output_type": "stream",
     "text": [
      "2\n",
      "10 8 17\n"
     ]
    },
    {
     "ename": "ValueError",
     "evalue": "not enough values to unpack (expected 2, got 0)",
     "output_type": "error",
     "traceback": [
      "\u001b[0;31m---------------------------------------------------------------------------\u001b[0m",
      "\u001b[0;31mValueError\u001b[0m                                Traceback (most recent call last)",
      "\u001b[0;32m<ipython-input-3-28e29e0a2632>\u001b[0m in \u001b[0;36m<module>\u001b[0;34m()\u001b[0m\n\u001b[1;32m     30\u001b[0m \u001b[0;34m\u001b[0m\u001b[0m\n\u001b[1;32m     31\u001b[0m     \u001b[0;32mfor\u001b[0m \u001b[0m_\u001b[0m \u001b[0;32min\u001b[0m \u001b[0mrange\u001b[0m\u001b[0;34m(\u001b[0m\u001b[0mK\u001b[0m\u001b[0;34m)\u001b[0m\u001b[0;34m:\u001b[0m\u001b[0;34m\u001b[0m\u001b[0m\n\u001b[0;32m---> 32\u001b[0;31m         \u001b[0mx\u001b[0m\u001b[0;34m,\u001b[0m \u001b[0my\u001b[0m \u001b[0;34m=\u001b[0m \u001b[0mmap\u001b[0m\u001b[0;34m(\u001b[0m\u001b[0mint\u001b[0m\u001b[0;34m,\u001b[0m \u001b[0msys\u001b[0m\u001b[0;34m.\u001b[0m\u001b[0mstdin\u001b[0m\u001b[0;34m.\u001b[0m\u001b[0mreadline\u001b[0m\u001b[0;34m(\u001b[0m\u001b[0;34m)\u001b[0m\u001b[0;34m.\u001b[0m\u001b[0msplit\u001b[0m\u001b[0;34m(\u001b[0m\u001b[0;34m)\u001b[0m\u001b[0;34m)\u001b[0m\u001b[0;34m\u001b[0m\u001b[0m\n\u001b[0m\u001b[1;32m     33\u001b[0m         \u001b[0marr\u001b[0m\u001b[0;34m[\u001b[0m\u001b[0my\u001b[0m\u001b[0;34m]\u001b[0m\u001b[0;34m[\u001b[0m\u001b[0mx\u001b[0m\u001b[0;34m]\u001b[0m \u001b[0;34m=\u001b[0m \u001b[0;36m1\u001b[0m\u001b[0;34m\u001b[0m\u001b[0m\n\u001b[1;32m     34\u001b[0m \u001b[0;34m\u001b[0m\u001b[0m\n",
      "\u001b[0;31mValueError\u001b[0m: not enough values to unpack (expected 2, got 0)"
     ]
    }
   ],
   "source": [
    "# 유기농 배추\n",
    "# Flood Fill\n",
    "import sys\n",
    "from collections import deque\n",
    "\n",
    "\n",
    "def BFS(x, y, label):\n",
    "    q = deque([(x, y)])\n",
    "    visited[i][j] = True\n",
    "    arr[y][x] = label\n",
    "    while q:\n",
    "        cur_x, cur_y = q.popleft()\n",
    "        #print(\"**\", cur_x, cur_y)\n",
    "        for dx, dy in directions:\n",
    "            new_x, new_y = cur_x + dx, cur_y + dy\n",
    "            if 0 <= new_x < M and 0 <= new_y < N and not visited[new_y][new_x] and arr[new_y][new_x] == 1:\n",
    "                arr[new_y][new_x] = label\n",
    "                visited[new_y][new_x] = True\n",
    "                q.append((new_x, new_y))\n",
    "\n",
    "\n",
    "test_case = int(input())\n",
    "directions = [(-1, 0), (1, 0), (0, -1), (0, 1)]\n",
    "result = []\n",
    "\n",
    "for _ in range(test_case):\n",
    "    M, N, K = map(int, input().split())\n",
    "    arr = [[0] * M for _ in range(N)]\n",
    "    visited = [[False] * M for _ in range(N)]\n",
    "\n",
    "    for _ in range(K):\n",
    "        x, y = map(int, sys.stdin.readline().split())\n",
    "        arr[y][x] = 1\n",
    "\n",
    "    #[print(i) for i in arr]\n",
    "\n",
    "    count = 1\n",
    "    for i in range(N):\n",
    "        for j in range(M):\n",
    "            if arr[i][j] == 1 and not visited[i][j]:\n",
    "                BFS(j, i, count)\n",
    "                #[print(i) for i in visited]\n",
    "                count += 1\n",
    "\n",
    "    result.append(count)\n",
    "    [print(i) for i in arr]\n",
    "[print(i - 1) for i in result]\n"
   ]
  },
  {
   "cell_type": "code",
   "execution_count": null,
   "metadata": {},
   "outputs": [],
   "source": []
  },
  {
   "cell_type": "code",
   "execution_count": null,
   "metadata": {},
   "outputs": [],
   "source": []
  }
 ],
 "metadata": {
  "kernelspec": {
   "display_name": "Python 3",
   "language": "python",
   "name": "python3"
  },
  "language_info": {
   "codemirror_mode": {
    "name": "ipython",
    "version": 3
   },
   "file_extension": ".py",
   "mimetype": "text/x-python",
   "name": "python",
   "nbconvert_exporter": "python",
   "pygments_lexer": "ipython3",
   "version": "3.6.5"
  }
 },
 "nbformat": 4,
 "nbformat_minor": 2
}
